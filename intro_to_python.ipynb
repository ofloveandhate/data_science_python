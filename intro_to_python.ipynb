{
 "cells": [
  {
   "cell_type": "markdown",
   "metadata": {},
   "source": [
    "<div>\n",
    "<div style=\"text-align: left\"> \n",
    "<img src=\"https://cdn.uwec.edu/uwec14/img/fallback-poa-graphic-horizontal.gif\" alt=\"The Power of And at UWEC\" style=\"width: 200px;\"  align=\"left\"/>\n",
    "</div>\n",
    "<div style=\"text-align: right\"> \n",
    "Dani Brake <br> brakeda@uwec.edu\n",
    "</div>\n",
    "</div>"
   ]
  },
  {
   "cell_type": "markdown",
   "metadata": {},
   "source": [
    "# Welcome to Python!\n",
    "\n",
    "I am super glad you are here with me today.  My name is Dani, and I'm a mathematician and data scientist at [UW-Eau Claire](http://uwec.edu).\n",
    "\n",
    "---\n",
    "\n",
    "This is a Jupyter notebook, a way of interacting with the Python interpreter, and writing a presentation at the same time.  Things I like about Jupyter notebooks\n",
    "* Code and presentation in the same document\n",
    "* Hotkeyed environment\n",
    "* Graphs in same window\n",
    "* Markdown cells let me write quickly and without too much trouble.\n",
    "\n",
    "There's an order to this whole thing:\n",
    "1. Make a cell\n",
    "2. Set the type of cell.  By default, is code cell.\n",
    "3. Do stuff in cell.\n",
    "4. Evaluate the cell.  shift-enter on a Mac.\n",
    "\n",
    "[Here is a cheatsheet](https://s3.amazonaws.com/assets.datacamp.com/blog_assets/Jupyter_Notebook_Cheat_Sheet.pdf)\n",
    "[Here is a set of hotkeys](https://www.cheatography.com/weidadeyue/cheat-sheets/jupyter-notebook/).  Get those actions-per-second up!"
   ]
  },
  {
   "cell_type": "markdown",
   "metadata": {},
   "source": [
    "## Traits of Python\n",
    "\n",
    "Python is...\n",
    "\n",
    "### Interactive\n",
    "\n",
    "Let's make a cell, and run it right in the worksheet."
   ]
  },
  {
   "cell_type": "code",
   "execution_count": 1,
   "metadata": {
    "collapsed": true
   },
   "outputs": [],
   "source": [
    "#this is a code cell.  \n",
    "#You can write arbitrary Python code.  \n",
    "#This is a great place for demo code, and a poor place for library code.\n",
    " \n",
    "#the first function we should write\n",
    "def hello():                      #colon is required\n",
    "    print(\"hello\" + 'world')      #python accepts both double and single quotes to define string literals"
   ]
  },
  {
   "cell_type": "code",
   "execution_count": 2,
   "metadata": {},
   "outputs": [
    {
     "name": "stdout",
     "output_type": "stream",
     "text": [
      "helloworld\n"
     ]
    }
   ],
   "source": [
    "#now we call the function we just wrote\n",
    "hello()"
   ]
  },
  {
   "cell_type": "markdown",
   "metadata": {},
   "source": [
    "^^^ the output from the function we just ran.\n",
    "\n",
    "We just defined a function, and ran it, right in our browser, without being connected to the internet (necessarily).  \n",
    "\n",
    "Let's explore the constraints of the system.  You should know some things.\n",
    "\n",
    "---\n",
    "\n",
    "### Whitespace matters\n",
    "\n",
    "If you don't indent correctly, your code won't run.  It'll be all like 'unexpected indent' and stuff."
   ]
  },
  {
   "cell_type": "code",
   "execution_count": 3,
   "metadata": {
    "collapsed": true
   },
   "outputs": [],
   "source": [
    "a = 1\n",
    "b = 2\n",
    "c = a+b*1.1"
   ]
  },
  {
   "cell_type": "markdown",
   "metadata": {},
   "source": [
    "that ran correctly.  whitespace all good"
   ]
  },
  {
   "cell_type": "code",
   "execution_count": 4,
   "metadata": {},
   "outputs": [
    {
     "ename": "IndentationError",
     "evalue": "unexpected indent (<ipython-input-4-a740e99856ea>, line 2)",
     "output_type": "error",
     "traceback": [
      "\u001b[0;36m  File \u001b[0;32m\"<ipython-input-4-a740e99856ea>\"\u001b[0;36m, line \u001b[0;32m2\u001b[0m\n\u001b[0;31m    b = 2\u001b[0m\n\u001b[0m    ^\u001b[0m\n\u001b[0;31mIndentationError\u001b[0m\u001b[0;31m:\u001b[0m unexpected indent\n"
     ]
    }
   ],
   "source": [
    "a = 1\n",
    "    b = 2\n",
    "c = a+b*1.1"
   ]
  },
  {
   "cell_type": "markdown",
   "metadata": {},
   "source": [
    "^^^ error just as i promised\n",
    "\n",
    "Indentation also defines scope.  No curly braces here."
   ]
  },
  {
   "cell_type": "code",
   "execution_count": 5,
   "metadata": {},
   "outputs": [
    {
     "name": "stdout",
     "output_type": "stream",
     "text": [
      "19683\n"
     ]
    }
   ],
   "source": [
    "a = 1;\n",
    "for ii in range(4): # colon is required\n",
    "    a = a+ii        # increase a by ii\n",
    "    a = a*ii        # multiply a by ii\n",
    "a = a**ii           # pow a by ii, \n",
    "# but NOT IN THE LOOP because indentation ended\n",
    "\n",
    "print(a)            #print to the screen. we'll explore formatting later"
   ]
  },
  {
   "cell_type": "markdown",
   "metadata": {},
   "source": [
    "this is different from if you had continued to indent line 5.  you do have line numbers, on, right?"
   ]
  },
  {
   "cell_type": "code",
   "execution_count": 6,
   "metadata": {},
   "outputs": [
    {
     "name": "stdout",
     "output_type": "stream",
     "text": [
      "8120601\n"
     ]
    }
   ],
   "source": [
    "a = 1;\n",
    "for ii in range(4): # colon is required\n",
    "    a = a+ii        # increase a by ii\n",
    "    a = a*ii        # multiply a by ii\n",
    "    a = a**ii           # pow a by ii, \n",
    "    # now in the loop because indentation ended\n",
    "\n",
    "print(a)            #print to the screen. we'll explore formatting later"
   ]
  },
  {
   "cell_type": "markdown",
   "metadata": {},
   "source": [
    "yep, pretty different.  Whitespace matters.  \n",
    "\n",
    "one last note -- choose spaces or tabs, but for best results do not mix within a project."
   ]
  },
  {
   "cell_type": "markdown",
   "metadata": {},
   "source": [
    "### Python is dynamically typed\n",
    "\n",
    "A variable can change its type.  We should have an `a` leftover from the previous cell.  Let's see its type:"
   ]
  },
  {
   "cell_type": "code",
   "execution_count": 7,
   "metadata": {},
   "outputs": [
    {
     "data": {
      "text/plain": [
       "int"
      ]
     },
     "execution_count": 7,
     "metadata": {},
     "output_type": "execute_result"
    }
   ],
   "source": [
    "type(a)"
   ]
  },
  {
   "cell_type": "markdown",
   "metadata": {},
   "source": [
    "our variable `a` is an `int`.  neato.  let's change it."
   ]
  },
  {
   "cell_type": "code",
   "execution_count": 8,
   "metadata": {},
   "outputs": [
    {
     "data": {
      "text/plain": [
       "str"
      ]
     },
     "execution_count": 8,
     "metadata": {},
     "output_type": "execute_result"
    }
   ],
   "source": [
    "a = 'a very dark night, with a loved one\\n holding them\\n\\ntight'\n",
    "type(a)"
   ]
  },
  {
   "cell_type": "markdown",
   "metadata": {},
   "source": [
    "now `a` is a `str`, or a string.  So, Python variables can change their type."
   ]
  },
  {
   "cell_type": "markdown",
   "metadata": {},
   "source": [
    "---\n",
    "\n",
    "## Python is Pythonic\n",
    "\n",
    "There's this notion of Python-flavored code.  It's *Pythonic*.  I'll tell you about two things now: \n",
    "\n",
    "* **list comprehensions**\n",
    "* **namespaces and dot syntax**\n",
    "\n",
    "### List comprehensions"
   ]
  },
  {
   "cell_type": "code",
   "execution_count": 9,
   "metadata": {},
   "outputs": [
    {
     "name": "stdout",
     "output_type": "stream",
     "text": [
      "[1, 9, 25, 49, 81, 121, 169, 225, 289, 361]\n"
     ]
    }
   ],
   "source": [
    "a = [x**2 for x in range(20)]    # the first 20 squares\n",
    "b = [x for x in a if not x % 2 == 0] # the odd squares\n",
    "\n",
    "print(b)"
   ]
  },
  {
   "cell_type": "markdown",
   "metadata": {},
   "source": [
    "Let's dissect that a bit\n",
    "\n",
    "    a = [x**2 for x in range(20)]\n",
    "\n",
    "We are making a variable called `a`, which will have the content created to the right. \n",
    "\n",
    "For each integer, starting at 0 and ending before 20 (at 19?), we square it (`x**2` is x-squared).  The square braces wrapping this thing capture the results and turn them into a list.  \n",
    "\n",
    "It's like we are saying *let there be `a` which is a list made from squaring each element of the half-open range from 0 to 20.*\n",
    "\n",
    "Python programmers love the !#@$ out of list comprehensions.  With practice you can read them, too!\n",
    "\n",
    "[Here is a great intro to list comprehensions](http://www.secnetix.de/olli/Python/list_comprehensions.hawk)"
   ]
  },
  {
   "cell_type": "markdown",
   "metadata": {},
   "source": [
    "### Namespaces and dot syntax\n",
    "\n",
    "Most useful things in Python live in a namespace, or are accessed via a function. The keyword to bring in a library is `import`\n",
    "\n",
    "\n",
    "![][xkcd_python]\n",
    "\n",
    "[xkcd_python]: https://imgs.xkcd.com/comics/python.png \"spend your precious time reading xkcd\"\n",
    "\n",
    "I'll point us to [the Matplotlib examples](https://matplotlib.org/examples/) for the next one"
   ]
  },
  {
   "cell_type": "code",
   "execution_count": 10,
   "metadata": {
    "collapsed": true
   },
   "outputs": [],
   "source": [
    "#copy-paste some code here and run it\n",
    "#do not commit copyrighted code from the examples library"
   ]
  },
  {
   "cell_type": "markdown",
   "metadata": {},
   "source": [
    "---\n",
    "\n",
    "# Conclusion\n",
    "\n",
    "Python is a fun language with lots of ways to interact with it.  There are some rules, for sure, but you can just sit down and start writing it in a Jupyter notebook, no compiler, no text editor, no repl.  \n",
    "\n",
    "### Dani's amethyst-colored advice on learning programming\n",
    "\n",
    "* Have a goal.  Work toward it, bit by bit.  Choose a lofty goal.  Write it down.  What do you want to do?  What does your program take as input?  What does it do for output?  Ask questions of those more knowledgeable than you.  And less knowledgeable, too.  \n",
    "* Embrace your mistakes.  It's just a form of writing and communication.  Along the way, you write drafts.\n",
    "* Eat some delicious food.  Drink your favorite beverage.\n",
    "* Learn and use a version control system.  Learn the difference between Git and Github -- they're not the same thing at all.\n",
    "* Document what you do by writing comments.  This is one reason Jupyter notebooks are so great.  They have a narrative format and presentation built into the code.\n",
    "* Learn how to use the terminal.  Not all code should go into a Jupyter notebook.  Don't write library code in a notebook -- it goes in a library.  At that time, you'll learn about `__str__`, `__repr__`, `__init__` and other double-underscored things\n",
    "* Try your hand at object-oriented Python.  The types are weak with this one, so you can add new data fields willy-nilly.\n",
    "* Also learn C++, for templates and black voodoo magic.  Strong typing is an asset, not a liability, and the compiler is your ultimate arbiter, a friend who will endlessly help you write better code.  Also, lint.\n",
    "* Also learn R, Go, Rust, D, and all the other languages.  Confuse yourself by checking out [BrainFuck](https://en.wikipedia.org/wiki/Brainfuck).\n",
    "* Content yourself with knowing your slice of the pie, recognize that there is not enough time to do everything yourself.\n",
    "\n",
    "### Cheat sheets\n",
    "\n",
    "* [python](https://www.cheatography.com/weidadeyue/cheat-sheets/jupyter-notebook/#downloads)\n",
    "* [another python](https://ehmatthes.github.io/pcc/cheatsheets/README.html)\n",
    "* [pandas](https://github.com/pandas-dev/pandas/blob/master/doc/cheatsheet/Pandas_Cheat_Sheet.pdf)\n",
    "* [matplotlib](https://s3.amazonaws.com/assets.datacamp.com/blog_assets/Python_Matplotlib_Cheat_Sheet.pdf)\n",
    "* [markdown](https://github.com/adam-p/markdown-here/wiki/Markdown-Cheatsheet)"
   ]
  },
  {
   "cell_type": "code",
   "execution_count": null,
   "metadata": {
    "collapsed": true
   },
   "outputs": [],
   "source": []
  }
 ],
 "metadata": {
  "kernelspec": {
   "display_name": "Python 3",
   "language": "python",
   "name": "python3"
  },
  "language_info": {
   "codemirror_mode": {
    "name": "ipython",
    "version": 3
   },
   "file_extension": ".py",
   "mimetype": "text/x-python",
   "name": "python",
   "nbconvert_exporter": "python",
   "pygments_lexer": "ipython3",
   "version": "3.6.1"
  }
 },
 "nbformat": 4,
 "nbformat_minor": 2
}
